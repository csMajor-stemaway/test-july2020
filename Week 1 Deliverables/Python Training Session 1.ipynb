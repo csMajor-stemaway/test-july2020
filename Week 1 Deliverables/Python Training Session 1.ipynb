{
 "cells": [
  {
   "cell_type": "markdown",
   "metadata": {
    "colab_type": "text",
    "id": "T7nGFMRxb0u1"
   },
   "source": [
    "![alt text](https://stemaway-updivision-urlsigner.storage.googleapis.com/original/1X/5aaaadbe65c10e831f72f3b225178a118724f30d.jpeg)\n",
    "\n",
    "\n",
    "# **Welcome to Python for Beginners!**\n",
    "\n",
    "**What we will be covering:**\n",
    "*   Primitive Types\n",
    "*   Data Structures\n",
    "*   Object Oriented Programming - Classes, Variables, Functions\n",
    "*   If Statement, For Loops, While Loops\n",
    "*   Packages/Libraries - Importing and Using them\n",
    "*   Data Visualization with Pandas\n"
   ]
  },
  {
   "cell_type": "code",
   "execution_count": 1,
   "metadata": {
    "colab": {},
    "colab_type": "code",
    "id": "KcIaSGKRbok_"
   },
   "outputs": [
    {
     "name": "stdout",
     "output_type": "stream",
     "text": [
      "Hello World!\n"
     ]
    }
   ],
   "source": [
    "# A little bit of CS tradition\n",
    "print(\"Hello World!\")"
   ]
  },
  {
   "cell_type": "markdown",
   "metadata": {
    "colab_type": "text",
    "id": "paiHOICsiLZ_"
   },
   "source": [
    "# Primitive Types"
   ]
  },
  {
   "cell_type": "code",
   "execution_count": 1,
   "metadata": {
    "colab": {},
    "colab_type": "code",
    "id": "3E3k9M_fhHva"
   },
   "outputs": [],
   "source": [
    "# Integer\n",
    "a = 5\n",
    "# Float\n",
    "b = 10.0\n",
    "# Strings\n",
    "c = 'Hey'\n",
    "d = \"Hey\"\n",
    "# Boolean\n",
    "e = False\n",
    "# NoneType\n",
    "f = None"
   ]
  },
  {
   "cell_type": "code",
   "execution_count": 7,
   "metadata": {},
   "outputs": [
    {
     "data": {
      "text/plain": [
       "str"
      ]
     },
     "execution_count": 7,
     "metadata": {},
     "output_type": "execute_result"
    }
   ],
   "source": [
    "a = \"hey\"\n",
    "type(a)"
   ]
  },
  {
   "cell_type": "code",
   "execution_count": 1,
   "metadata": {},
   "outputs": [
    {
     "data": {
      "text/plain": [
       "float"
      ]
     },
     "execution_count": 1,
     "metadata": {},
     "output_type": "execute_result"
    }
   ],
   "source": [
    "b = 2.5\n",
    "type(b)"
   ]
  },
  {
   "cell_type": "code",
   "execution_count": 2,
   "metadata": {},
   "outputs": [
    {
     "data": {
      "text/plain": [
       "bool"
      ]
     },
     "execution_count": 2,
     "metadata": {},
     "output_type": "execute_result"
    }
   ],
   "source": [
    "c = True\n",
    "type(c)"
   ]
  },
  {
   "cell_type": "code",
   "execution_count": 3,
   "metadata": {},
   "outputs": [
    {
     "data": {
      "text/plain": [
       "NoneType"
      ]
     },
     "execution_count": 3,
     "metadata": {},
     "output_type": "execute_result"
    }
   ],
   "source": [
    "d = None\n",
    "type(d)"
   ]
  },
  {
   "cell_type": "markdown",
   "metadata": {},
   "source": [
    "# Operators/Operations"
   ]
  },
  {
   "cell_type": "code",
   "execution_count": 8,
   "metadata": {
    "scrolled": true
   },
   "outputs": [
    {
     "name": "stdout",
     "output_type": "stream",
     "text": [
      "c: 7\n"
     ]
    }
   ],
   "source": [
    "# Adding two integers\n",
    "a = 5\n",
    "b = 2\n",
    "c = a + b\n",
    "print(\"c:\", c)"
   ]
  },
  {
   "cell_type": "code",
   "execution_count": 11,
   "metadata": {},
   "outputs": [
    {
     "name": "stdout",
     "output_type": "stream",
     "text": [
      "z: 5\n"
     ]
    }
   ],
   "source": [
    "# Subtracting two integers\n",
    "x = 10\n",
    "y = 5\n",
    "z = x - y\n",
    "print(\"z:\", z)"
   ]
  },
  {
   "cell_type": "code",
   "execution_count": 12,
   "metadata": {},
   "outputs": [
    {
     "name": "stdout",
     "output_type": "stream",
     "text": [
      "f: 8\n"
     ]
    }
   ],
   "source": [
    "# Multiplying two integers\n",
    "d = 2\n",
    "e = 4\n",
    "f = d * e\n",
    "print(\"f:\", f)"
   ]
  },
  {
   "cell_type": "code",
   "execution_count": 13,
   "metadata": {},
   "outputs": [
    {
     "name": "stdout",
     "output_type": "stream",
     "text": [
      "i: 5.0\n"
     ]
    }
   ],
   "source": [
    "# Dividing two integers\n",
    "g = 15\n",
    "h = 3\n",
    "i = g / h\n",
    "print(\"i:\", i)"
   ]
  },
  {
   "cell_type": "code",
   "execution_count": 8,
   "metadata": {},
   "outputs": [
    {
     "name": "stdout",
     "output_type": "stream",
     "text": [
      "l: 3\n"
     ]
    }
   ],
   "source": [
    "# Floor Division using integers\n",
    "j = 11\n",
    "k = 3\n",
    "l = j // k\n",
    "print(\"l:\", l)"
   ]
  },
  {
   "cell_type": "code",
   "execution_count": 19,
   "metadata": {},
   "outputs": [
    {
     "name": "stdout",
     "output_type": "stream",
     "text": [
      "n: 2\n",
      "False\n"
     ]
    }
   ],
   "source": [
    "# Modulus Operator ==> Calculates the Remainder\n",
    "l = 17\n",
    "m = 3\n",
    "n = l % m\n",
    "print(\"n:\", n)\n",
    "\n",
    "# x = 45\n",
    "\n",
    "# print(x % 2 == 0)"
   ]
  },
  {
   "cell_type": "code",
   "execution_count": 21,
   "metadata": {},
   "outputs": [
    {
     "name": "stdout",
     "output_type": "stream",
     "text": [
      "s: 2.0\n"
     ]
    }
   ],
   "source": [
    "# Exponents\n",
    "q = 4\n",
    "r = 0.5\n",
    "s = q ** r # ==> s = q^r\n",
    "print(\"s:\", s)"
   ]
  },
  {
   "cell_type": "code",
   "execution_count": 1,
   "metadata": {},
   "outputs": [
    {
     "data": {
      "text/plain": [
       "8.0"
      ]
     },
     "execution_count": 1,
     "metadata": {},
     "output_type": "execute_result"
    }
   ],
   "source": [
    "import math\n",
    "\n",
    "math.pow(2, 3)"
   ]
  },
  {
   "cell_type": "code",
   "execution_count": 25,
   "metadata": {
    "scrolled": true
   },
   "outputs": [
    {
     "name": "stdout",
     "output_type": "stream",
     "text": [
      "c: 8.26\n"
     ]
    }
   ],
   "source": [
    "# Adding two floats\n",
    "a = 5.5\n",
    "b = 2.76\n",
    "c = a + b\n",
    "print(\"c:\", c)"
   ]
  },
  {
   "cell_type": "code",
   "execution_count": 3,
   "metadata": {},
   "outputs": [
    {
     "data": {
      "text/plain": [
       "0.333"
      ]
     },
     "execution_count": 3,
     "metadata": {},
     "output_type": "execute_result"
    }
   ],
   "source": [
    "x = 1/3\n",
    "round(x, 3)"
   ]
  },
  {
   "cell_type": "code",
   "execution_count": 28,
   "metadata": {},
   "outputs": [
    {
     "name": "stdout",
     "output_type": "stream",
     "text": [
      "z: 4.78\n"
     ]
    }
   ],
   "source": [
    "# Subtracting two floats\n",
    "x = 10.3\n",
    "y = 5.52\n",
    "z = x - y\n",
    "print(\"z:\", round(z, 2))"
   ]
  },
  {
   "cell_type": "code",
   "execution_count": 29,
   "metadata": {},
   "outputs": [
    {
     "name": "stdout",
     "output_type": "stream",
     "text": [
      "f: 10.58\n"
     ]
    }
   ],
   "source": [
    "# Multiplying two floats\n",
    "d = 2.3\n",
    "e = 4.6\n",
    "f = d * e\n",
    "print(\"f:\", round(f, 2))"
   ]
  },
  {
   "cell_type": "code",
   "execution_count": 30,
   "metadata": {},
   "outputs": [
    {
     "name": "stdout",
     "output_type": "stream",
     "text": [
      "i: 2.86\n"
     ]
    }
   ],
   "source": [
    "# Dividing two floats\n",
    "g = 15.75\n",
    "h = 5.5\n",
    "i = g / h\n",
    "print(\"i:\", round(i, 2))"
   ]
  },
  {
   "cell_type": "code",
   "execution_count": 32,
   "metadata": {},
   "outputs": [
    {
     "name": "stdout",
     "output_type": "stream",
     "text": [
      "l: 5.0\n"
     ]
    }
   ],
   "source": [
    "# Floor Division using floats\n",
    "j = 55.5\n",
    "k = 10.0\n",
    "l = j // k\n",
    "print(\"l:\", round(l, 2))"
   ]
  },
  {
   "cell_type": "code",
   "execution_count": 33,
   "metadata": {},
   "outputs": [
    {
     "name": "stdout",
     "output_type": "stream",
     "text": [
      "n: 0.5\n"
     ]
    }
   ],
   "source": [
    "# Modulus Operator ==> Calculates the Remainder\n",
    "m = 15.5\n",
    "n = 5\n",
    "o = m % n\n",
    "print(\"n:\", round(o, 2))"
   ]
  },
  {
   "cell_type": "code",
   "execution_count": 11,
   "metadata": {},
   "outputs": [
    {
     "name": "stdout",
     "output_type": "stream",
     "text": [
      "hello world!\n",
      "This value is 5\n",
      "The value of x: 23\n"
     ]
    }
   ],
   "source": [
    "# Using a comma in a print statement adds a single space (Look at Line 3 and Line 4)\n",
    "print(\"hello world!\")\n",
    "print(\"This value is\", 5)\n",
    "print(\"The value of x:\", 23)"
   ]
  },
  {
   "cell_type": "code",
   "execution_count": 17,
   "metadata": {},
   "outputs": [
    {
     "name": "stdout",
     "output_type": "stream",
     "text": [
      "6.25\n"
     ]
    },
    {
     "data": {
      "text/plain": [
       "3.333"
      ]
     },
     "execution_count": 17,
     "metadata": {},
     "output_type": "execute_result"
    }
   ],
   "source": [
    "# Exponents\n",
    "q = 2.5\n",
    "r = 2\n",
    "s = q ** r\n",
    "print(s)\n",
    "\n",
    "round(10/3, 3)"
   ]
  },
  {
   "cell_type": "code",
   "execution_count": 40,
   "metadata": {},
   "outputs": [
    {
     "name": "stdout",
     "output_type": "stream",
     "text": [
      "True\n",
      "True\n",
      "False\n"
     ]
    }
   ],
   "source": [
    "# Comparison Operators --> <=\n",
    "print(2 <= 2)\n",
    "print(2 <= 3)\n",
    "print(2 <= 1)"
   ]
  },
  {
   "cell_type": "code",
   "execution_count": 41,
   "metadata": {},
   "outputs": [
    {
     "name": "stdout",
     "output_type": "stream",
     "text": [
      "True\n",
      "False\n",
      "True\n"
     ]
    }
   ],
   "source": [
    "# Comparison Operators --> >=\n",
    "print(2 >= 2)\n",
    "print(2 >= 3)\n",
    "print(2 >= 1)"
   ]
  },
  {
   "cell_type": "code",
   "execution_count": 44,
   "metadata": {},
   "outputs": [
    {
     "name": "stdout",
     "output_type": "stream",
     "text": [
      "False\n",
      "True\n",
      "False\n"
     ]
    }
   ],
   "source": [
    "# Comparison Operators --> <\n",
    "print(2 < 2)\n",
    "print(2 < 3)\n",
    "print(2 < 1)"
   ]
  },
  {
   "cell_type": "code",
   "execution_count": 45,
   "metadata": {},
   "outputs": [
    {
     "name": "stdout",
     "output_type": "stream",
     "text": [
      "False\n",
      "False\n",
      "True\n"
     ]
    }
   ],
   "source": [
    "# Comparison Operators --> >\n",
    "print(2 > 2)\n",
    "print(2 > 3)\n",
    "print(2 > 1)"
   ]
  },
  {
   "cell_type": "code",
   "execution_count": 50,
   "metadata": {},
   "outputs": [
    {
     "data": {
      "text/plain": [
       "2"
      ]
     },
     "execution_count": 50,
     "metadata": {},
     "output_type": "execute_result"
    }
   ],
   "source": [
    "# Assignment Operators --> =\n",
    "a = 2\n",
    "a"
   ]
  },
  {
   "cell_type": "code",
   "execution_count": 53,
   "metadata": {},
   "outputs": [
    {
     "data": {
      "text/plain": [
       "7"
      ]
     },
     "execution_count": 53,
     "metadata": {},
     "output_type": "execute_result"
    }
   ],
   "source": [
    "# Assignment Operators --> +=\n",
    "b = 2\n",
    "b += 5 # b = b + 5 ==> b = (2) + 5 ==> b = 7\n",
    "b"
   ]
  },
  {
   "cell_type": "code",
   "execution_count": 54,
   "metadata": {},
   "outputs": [
    {
     "data": {
      "text/plain": [
       "-3"
      ]
     },
     "execution_count": 54,
     "metadata": {},
     "output_type": "execute_result"
    }
   ],
   "source": [
    "# Assignment Operators --> -=\n",
    "c = 2\n",
    "c -= 5\n",
    "c"
   ]
  },
  {
   "cell_type": "code",
   "execution_count": 55,
   "metadata": {},
   "outputs": [
    {
     "data": {
      "text/plain": [
       "10"
      ]
     },
     "execution_count": 55,
     "metadata": {},
     "output_type": "execute_result"
    }
   ],
   "source": [
    "# Assignment Operators --> *=\n",
    "d = 2\n",
    "d *= 5\n",
    "d"
   ]
  },
  {
   "cell_type": "code",
   "execution_count": 64,
   "metadata": {},
   "outputs": [
    {
     "data": {
      "text/plain": [
       "3.0"
      ]
     },
     "execution_count": 64,
     "metadata": {},
     "output_type": "execute_result"
    }
   ],
   "source": [
    "# Assignment Operators --> /=\n",
    "e = 15\n",
    "e /= 5\n",
    "e"
   ]
  },
  {
   "cell_type": "code",
   "execution_count": 58,
   "metadata": {},
   "outputs": [
    {
     "data": {
      "text/plain": [
       "16"
      ]
     },
     "execution_count": 58,
     "metadata": {},
     "output_type": "execute_result"
    }
   ],
   "source": [
    "# Assignment Operators --> **=\n",
    "f = 2\n",
    "f **= 4 # ==> This represents 2^4 not 4^2\n",
    "f"
   ]
  },
  {
   "cell_type": "code",
   "execution_count": 59,
   "metadata": {},
   "outputs": [
    {
     "data": {
      "text/plain": [
       "2"
      ]
     },
     "execution_count": 59,
     "metadata": {},
     "output_type": "execute_result"
    }
   ],
   "source": [
    "# Assignment Operators --> //=\n",
    "g = 10\n",
    "g //= 4\n",
    "g"
   ]
  },
  {
   "cell_type": "code",
   "execution_count": 60,
   "metadata": {},
   "outputs": [
    {
     "data": {
      "text/plain": [
       "3"
      ]
     },
     "execution_count": 60,
     "metadata": {},
     "output_type": "execute_result"
    }
   ],
   "source": [
    "# Assignment Operators --> %=\n",
    "h = 15\n",
    "h %= 4\n",
    "h"
   ]
  },
  {
   "cell_type": "code",
   "execution_count": 19,
   "metadata": {},
   "outputs": [
    {
     "name": "stdout",
     "output_type": "stream",
     "text": [
      "True\n",
      "False\n"
     ]
    }
   ],
   "source": [
    "# Identity/Membership/Logical Operators\n",
    "print(2 in [1, 2, 3])\n",
    "print(4 in [1, 2, 3])"
   ]
  },
  {
   "cell_type": "code",
   "execution_count": 23,
   "metadata": {},
   "outputs": [
    {
     "name": "stdout",
     "output_type": "stream",
     "text": [
      "False\n",
      "True\n",
      "False\n",
      "True\n"
     ]
    }
   ],
   "source": [
    "print(2 not in [1, 2, 3])\n",
    "print(2 not in [1, 3, 4])\n",
    "\n",
    "print(\"a\" not in \"abc\")\n",
    "\n",
    "print(\"\" in \"abc\")"
   ]
  },
  {
   "cell_type": "code",
   "execution_count": 24,
   "metadata": {
    "scrolled": false
   },
   "outputs": [
    {
     "name": "stdout",
     "output_type": "stream",
     "text": [
      "False\n",
      "True\n",
      "False\n",
      "True\n"
     ]
    },
    {
     "name": "stderr",
     "output_type": "stream",
     "text": [
      "<>:1: SyntaxWarning: \"is\" with a literal. Did you mean \"==\"?\n",
      "<>:2: SyntaxWarning: \"is\" with a literal. Did you mean \"==\"?\n",
      "<>:1: SyntaxWarning: \"is\" with a literal. Did you mean \"==\"?\n",
      "<>:2: SyntaxWarning: \"is\" with a literal. Did you mean \"==\"?\n",
      "<ipython-input-24-f69adfdb7032>:1: SyntaxWarning: \"is\" with a literal. Did you mean \"==\"?\n",
      "  print(2 is 3)\n",
      "<ipython-input-24-f69adfdb7032>:2: SyntaxWarning: \"is\" with a literal. Did you mean \"==\"?\n",
      "  print(2 is 2)\n"
     ]
    }
   ],
   "source": [
    "print(2 is 3)\n",
    "print(2 is 2)\n",
    "\n",
    "# print(2 == 3)\n",
    "# print(2 == 2)"
   ]
  },
  {
   "cell_type": "code",
   "execution_count": 27,
   "metadata": {},
   "outputs": [
    {
     "name": "stdout",
     "output_type": "stream",
     "text": [
      "False\n"
     ]
    }
   ],
   "source": [
    "print([1,2] in [1,2,3,4])"
   ]
  },
  {
   "cell_type": "markdown",
   "metadata": {},
   "source": [
    "# Stopping Point\n",
    "## Talk about Assignment 1 and Turtle Project"
   ]
  },
  {
   "cell_type": "code",
   "execution_count": 28,
   "metadata": {
    "scrolled": true
   },
   "outputs": [
    {
     "name": "stdout",
     "output_type": "stream",
     "text": [
      "Both conditions have been met!\n",
      "One of the conditions have been met!\n"
     ]
    }
   ],
   "source": [
    "if 2 in [1, 2, 3] and 3 not in [4, 5, 6]:\n",
    "    print(\"Both conditions have been met!\")\n",
    "    \n",
    "if 2 in [1, 1, 3] or 3 in [1, 2, 3]:\n",
    "    print(\"One of the conditions have been met!\")"
   ]
  },
  {
   "cell_type": "code",
   "execution_count": 32,
   "metadata": {},
   "outputs": [
    {
     "name": "stdout",
     "output_type": "stream",
     "text": [
      "x is not even\n"
     ]
    }
   ],
   "source": [
    "x = 5\n",
    "\n",
    "if x % 2 == 0:\n",
    "    print(\"x is even\")\n",
    "elif x % 2 != 0:\n",
    "    print(\"x is not even\")\n",
    "else:\n",
    "    print(\"x is not an integer\")"
   ]
  },
  {
   "cell_type": "code",
   "execution_count": 78,
   "metadata": {},
   "outputs": [
    {
     "data": {
      "text/plain": [
       "'Hello World!'"
      ]
     },
     "execution_count": 78,
     "metadata": {},
     "output_type": "execute_result"
    }
   ],
   "source": [
    "# String Operations - Concatenation\n",
    "\"Hello \" + \"World!\""
   ]
  },
  {
   "cell_type": "code",
   "execution_count": 75,
   "metadata": {},
   "outputs": [
    {
     "ename": "TypeError",
     "evalue": "unsupported operand type(s) for -: 'str' and 'str'",
     "output_type": "error",
     "traceback": [
      "\u001b[1;31m---------------------------------------------------------------------------\u001b[0m",
      "\u001b[1;31mTypeError\u001b[0m                                 Traceback (most recent call last)",
      "\u001b[1;32m<ipython-input-75-fec96f1682e6>\u001b[0m in \u001b[0;36m<module>\u001b[1;34m\u001b[0m\n\u001b[1;32m----> 1\u001b[1;33m \u001b[1;34m\"Hello\"\u001b[0m \u001b[1;33m-\u001b[0m \u001b[1;34m\"H\"\u001b[0m\u001b[1;33m\u001b[0m\u001b[1;33m\u001b[0m\u001b[0m\n\u001b[0m",
      "\u001b[1;31mTypeError\u001b[0m: unsupported operand type(s) for -: 'str' and 'str'"
     ]
    }
   ],
   "source": [
    "\"Hello\" - \"H\" # You cannot subtract strings from each other!!"
   ]
  },
  {
   "cell_type": "code",
   "execution_count": 35,
   "metadata": {},
   "outputs": [
    {
     "data": {
      "text/plain": [
       "'Abc Abc Abc '"
      ]
     },
     "execution_count": 35,
     "metadata": {},
     "output_type": "execute_result"
    }
   ],
   "source": [
    "# String Operations - Repetition\n",
    "\"Abc \" * 3"
   ]
  },
  {
   "cell_type": "code",
   "execution_count": 37,
   "metadata": {},
   "outputs": [
    {
     "data": {
      "text/plain": [
       "5"
      ]
     },
     "execution_count": 37,
     "metadata": {},
     "output_type": "execute_result"
    }
   ],
   "source": [
    "len(\"Hello\")"
   ]
  },
  {
   "cell_type": "code",
   "execution_count": 13,
   "metadata": {},
   "outputs": [
    {
     "name": "stdout",
     "output_type": "stream",
     "text": [
      "H\n",
      "e\n",
      "l\n",
      "l\n",
      "o\n"
     ]
    }
   ],
   "source": [
    "# String Operations - Indexing from the beginning\n",
    "\n",
    "# H e l l o\n",
    "# 0 1 2 3 4\n",
    "\n",
    "# len(\"Hello\") ==> 5\n",
    "\n",
    "print(\"Hello\"[0])\n",
    "print(\"Hello\"[1])\n",
    "print(\"Hello\"[2])\n",
    "print(\"Hello\"[3])\n",
    "print(\"Hello\"[4])"
   ]
  },
  {
   "cell_type": "code",
   "execution_count": 85,
   "metadata": {},
   "outputs": [
    {
     "name": "stdout",
     "output_type": "stream",
     "text": [
      "o\n",
      "l\n",
      "l\n",
      "e\n",
      "H\n"
     ]
    }
   ],
   "source": [
    "# String Operations - Indexing from the end\n",
    "\n",
    "#  H  e  l  l  o\n",
    "# -5 -4 -3 -2 -1\n",
    "\n",
    "print(\"Hello\"[-1])\n",
    "print(\"Hello\"[-2])\n",
    "print(\"Hello\"[-3])\n",
    "print(\"Hello\"[-4])\n",
    "print(\"Hello\"[-5])"
   ]
  },
  {
   "cell_type": "code",
   "execution_count": 95,
   "metadata": {},
   "outputs": [
    {
     "name": "stdout",
     "output_type": "stream",
     "text": [
      "Hey\n",
      "Hey\n",
      "Guys!\n",
      "ello\n"
     ]
    }
   ],
   "source": [
    "# String Operations - Slicing\n",
    "\n",
    "# H e y _ G u y s !\n",
    "# 0 1 2 3 4 5 6 7 8\n",
    "\n",
    "print(\"Hey Guys!\"[0:3])\n",
    "print(\"Hey Guys!\"[:3]) # same as print(\"Hey Guys!\"[0:3])\n",
    "\n",
    "print(\"Hey Guys!\"[4:9])\n",
    "print(\"Hello\"[1:])"
   ]
  },
  {
   "cell_type": "code",
   "execution_count": null,
   "metadata": {},
   "outputs": [],
   "source": [
    "# String Operations - Length\n",
    "print(len(\"hey\"))\n",
    "# print(\" \")\n",
    "# print(\"\")\n",
    "print(len(\"hello world\")) # Spaces also count as characters"
   ]
  },
  {
   "cell_type": "code",
   "execution_count": 14,
   "metadata": {},
   "outputs": [
    {
     "name": "stdout",
     "output_type": "stream",
     "text": [
      "True\n",
      "False\n",
      "True\n",
      "True\n",
      "False\n"
     ]
    }
   ],
   "source": [
    "# String Operations - Comparison\n",
    "print(\"ABC\" < \"XYZ\")\n",
    "print(\"ABC\" > \"XYZ\")\n",
    "\n",
    "print(\"A\" < \"a\")\n",
    "# print(\"a\" < \"Z\")\n",
    "print(\"A\" < \"Z\")\n",
    "# print(\"\")\n",
    "# print(\"1\" < \"A\")\n",
    "# print(\"1\" < \"a\")\n",
    "print(\"1\" > \"99\")\n",
    "\n",
    "# Tip: A-Z comes before a-z"
   ]
  },
  {
   "cell_type": "code",
   "execution_count": 108,
   "metadata": {},
   "outputs": [
    {
     "name": "stdout",
     "output_type": "stream",
     "text": [
      "True\n",
      "False\n",
      "True\n"
     ]
    }
   ],
   "source": [
    "# String Operations - Membership Testing\n",
    "print(\"a\" in \"abc\")\n",
    "print(\"Hey\" in \"hey guys!\")\n",
    "print(\"\" in \"hey\")"
   ]
  },
  {
   "cell_type": "markdown",
   "metadata": {
    "colab_type": "text",
    "id": "B8vuRc9aiZNX"
   },
   "source": [
    "## Data Structures"
   ]
  },
  {
   "cell_type": "code",
   "execution_count": 48,
   "metadata": {
    "colab": {},
    "colab_type": "code",
    "id": "BO7PbF-xbxt3"
   },
   "outputs": [],
   "source": [
    "# Dictionary\n",
    "a_dict = {\"Keys\":['V', 'A', 'L', 'U', 'E', 'S']}\n",
    "\n",
    "ex_dict = {0:\"A\",\n",
    "          1:\"B\",\n",
    "          2:\"C\",\n",
    "          3:\"D\"}\n",
    "\n",
    "# print(\"Keys:\", ex_dict.keys())\n",
    "# print(\"Values:\", ex_dict.values())\n",
    "# print(ex_dict)\n",
    "\n",
    "# b_dict = {0:\"A\", 1:\"B\", 2:\"C\"}\n",
    "# c_dict = {\"Tuple\":(1, 2), \"List\":[1, 2, 3]}\n",
    "\n",
    "# List\n",
    "ex_list = [1, 2.0, \"strings\", False, None]\n",
    "# print(ex_list[-1])\n",
    "# print(ex_list[2])\n",
    "# print(ex_list[1:3])\n",
    "\n",
    "\n",
    "# Tuple\n",
    "x = (2, False, None, \"str\")"
   ]
  },
  {
   "cell_type": "code",
   "execution_count": 51,
   "metadata": {
    "colab": {},
    "colab_type": "code",
    "id": "BO7PbF-xbxt3"
   },
   "outputs": [
    {
     "name": "stdout",
     "output_type": "stream",
     "text": [
      "<class 'int'>\n",
      "<class 'str'>\n"
     ]
    }
   ],
   "source": [
    "x = 2.0 # float\n",
    "y = int(x)\n",
    "z = str(2.0)\n",
    "print(type(y))\n",
    "print(type(z))\n",
    "\n",
    "# int()\n",
    "# bool()\n",
    "# float()\n",
    "# str()\n",
    "# list()\n",
    "# tuple()\n",
    "# dict()"
   ]
  },
  {
   "cell_type": "markdown",
   "metadata": {
    "colab_type": "text",
    "id": "tZvt0ZvbigyV"
   },
   "source": [
    "## Object Oriented Programming"
   ]
  },
  {
   "cell_type": "markdown",
   "metadata": {
    "colab_type": "text",
    "id": "qPlPgRyqjcsw"
   },
   "source": [
    "### Creating a class\n",
    "\n",
    "\n",
    "*   A class is like a blueprint, it contains attributes and lays out possible functions but cannot actually be used\n",
    "*   House Ex. You can see the dimensions and number of rooms in a house's blueprint but you cannot live in a blueprint of a house. In order to live in it, you must create it"
   ]
  },
  {
   "cell_type": "code",
   "execution_count": 53,
   "metadata": {
    "colab": {},
    "colab_type": "code",
    "id": "m9dDBp0qig_2"
   },
   "outputs": [],
   "source": [
    "class Car:\n",
    "    type = \"sedan\"\n",
    "    def __init__ (self, new_color, new_electric_or_gas):\n",
    "        self.color = new_color\n",
    "        self.electric_or_gas = new_electric_or_gas\n",
    "    def rev_engine(self):\n",
    "        print(\"vroom-vroom\")\n",
    "    def is_electric(self):\n",
    "        if self.electric_or_gas == \"electric\":\n",
    "            return True\n",
    "        else:\n",
    "            return False"
   ]
  },
  {
   "cell_type": "markdown",
   "metadata": {
    "colab_type": "text",
    "id": "BKvAgnQ3jhOo"
   },
   "source": [
    "### Using a class - Objects\n",
    "\n",
    "\n",
    "*   Objects are usable and built off of the Class (blueprint)\n",
    "*   House ex. The house you live in is based off of a blueprint that you cannot live in\n",
    "\n"
   ]
  },
  {
   "cell_type": "code",
   "execution_count": 55,
   "metadata": {
    "colab": {},
    "colab_type": "code",
    "id": "K1ddAbcKjaag"
   },
   "outputs": [
    {
     "name": "stdout",
     "output_type": "stream",
     "text": [
      "vroom-vroom\n",
      "the blue car is electric\n"
     ]
    }
   ],
   "source": [
    "# Instantiating an object\n",
    "blue_car = Car(\"blue\",\"electric\")\n",
    "\n",
    "# Object.function(parameter)\n",
    "blue_car.rev_engine()\n",
    "\n",
    "if blue_car.is_electric() == True:\n",
    "  print(\"the blue car is electric\")"
   ]
  },
  {
   "cell_type": "markdown",
   "metadata": {
    "colab_type": "text",
    "id": "vCQeM6agipX-"
   },
   "source": [
    "## If statement, while loops, for loops\n",
    "\n",
    "\n",
    "*   Methods of controlling the amount of times a section of code is run\n",
    "\n"
   ]
  },
  {
   "cell_type": "markdown",
   "metadata": {
    "colab": {},
    "colab_type": "code",
    "id": "0GlR_AKbi71p"
   },
   "source": [
    "### If statement\n",
    "\n",
    "\n",
    "*   Only sections of code where boolean assertion is true will run\n",
    "\n"
   ]
  },
  {
   "cell_type": "code",
   "execution_count": 27,
   "metadata": {},
   "outputs": [
    {
     "name": "stdout",
     "output_type": "stream",
     "text": [
      "The sky is not blue\n"
     ]
    }
   ],
   "source": [
    "the_sky_is_blue = False\n",
    "\n",
    "if (the_sky_is_blue == True):\n",
    "  print(\"The sky is blue\")\n",
    "else:\n",
    "  print(\"The sky is not blue\")"
   ]
  },
  {
   "cell_type": "code",
   "execution_count": 60,
   "metadata": {},
   "outputs": [
    {
     "name": "stdout",
     "output_type": "stream",
     "text": [
      "The value is true\n"
     ]
    }
   ],
   "source": [
    "is_okay = True\n",
    "\n",
    "if (is_okay):\n",
    "    print(\"The value is true\")\n",
    "else:\n",
    "    print(\"It's false\")"
   ]
  },
  {
   "cell_type": "markdown",
   "metadata": {},
   "source": [
    "### While loops\n",
    "\n",
    "\n",
    "*   Run selected code until boolean assertion is false\n",
    "\n"
   ]
  },
  {
   "cell_type": "code",
   "execution_count": null,
   "metadata": {},
   "outputs": [],
   "source": [
    "the_light_is_on = True\n",
    "while (the_light_is_on):\n",
    "  print(\"Hi\")"
   ]
  },
  {
   "cell_type": "code",
   "execution_count": 64,
   "metadata": {},
   "outputs": [
    {
     "name": "stdout",
     "output_type": "stream",
     "text": [
      "1\n",
      "2\n",
      "3\n",
      "4\n",
      "5\n",
      "6\n",
      "7\n",
      "8\n",
      "9\n",
      "10\n"
     ]
    }
   ],
   "source": [
    "the_light_is_on = True\n",
    "num_secs = 0\n",
    "while(the_light_is_on):\n",
    "  num_secs += 1\n",
    "  print(num_secs)\n",
    "  if (num_secs == 10):\n",
    "    break"
   ]
  },
  {
   "cell_type": "markdown",
   "metadata": {},
   "source": [
    "### For loops\n",
    "\n",
    "*   Run code a specified number of times\n",
    "*   Commonly used to iterate through data structures\n",
    "\n",
    "\n",
    "\n"
   ]
  },
  {
   "cell_type": "code",
   "execution_count": 65,
   "metadata": {},
   "outputs": [
    {
     "name": "stdout",
     "output_type": "stream",
     "text": [
      "1\n",
      "2\n",
      "3\n",
      "4\n",
      "5\n"
     ]
    }
   ],
   "source": [
    "for x in range(1,6):\n",
    "  print(x)"
   ]
  },
  {
   "cell_type": "code",
   "execution_count": 32,
   "metadata": {},
   "outputs": [
    {
     "name": "stdout",
     "output_type": "stream",
     "text": [
      "a\n",
      "b\n",
      "c\n",
      "d\n",
      "e\n",
      "f\n",
      "g\n"
     ]
    }
   ],
   "source": [
    "list1 = [\"a\",\"b\",\"c\",\"d\",\"e\",\"f\",\"g\"]\n",
    "# for x in range(0,len(list1)):\n",
    "#   print(list1[x])\n",
    "\n",
    "for val in list1:\n",
    "    print(val)"
   ]
  },
  {
   "cell_type": "markdown",
   "metadata": {},
   "source": [
    "## Learning to use libraries and data visualization using the Pandas library"
   ]
  },
  {
   "cell_type": "markdown",
   "metadata": {
    "colab_type": "text",
    "id": "SRjCnDH4i8T_"
   },
   "source": [
    "### Importing and using Packages/Libraries\n",
    "\n",
    "\n",
    "*   A library is a collection of classes that can be used in a program\n",
    "*   The Pandas library contains a wide variety of classes that can be used to perform functions that are useful for data analysis and visualization\n",
    "\n"
   ]
  },
  {
   "cell_type": "code",
   "execution_count": 66,
   "metadata": {
    "colab": {},
    "colab_type": "code",
    "id": "l6t4olSsjHe3"
   },
   "outputs": [],
   "source": [
    "import pandas as pd"
   ]
  },
  {
   "cell_type": "code",
   "execution_count": 67,
   "metadata": {},
   "outputs": [
    {
     "data": {
      "text/html": [
       "<div>\n",
       "<style scoped>\n",
       "    .dataframe tbody tr th:only-of-type {\n",
       "        vertical-align: middle;\n",
       "    }\n",
       "\n",
       "    .dataframe tbody tr th {\n",
       "        vertical-align: top;\n",
       "    }\n",
       "\n",
       "    .dataframe thead th {\n",
       "        text-align: right;\n",
       "    }\n",
       "</style>\n",
       "<table border=\"1\" class=\"dataframe\">\n",
       "  <thead>\n",
       "    <tr style=\"text-align: right;\">\n",
       "      <th></th>\n",
       "      <th>Element</th>\n",
       "      <th>Number</th>\n",
       "      <th>Symbol</th>\n",
       "      <th>Weight</th>\n",
       "      <th>Boil</th>\n",
       "      <th>Melt</th>\n",
       "      <th>Density Vapour</th>\n",
       "      <th>Fusion</th>\n",
       "      <th>Unnamed: 8</th>\n",
       "    </tr>\n",
       "  </thead>\n",
       "  <tbody>\n",
       "    <tr>\n",
       "      <th>Hydrogen</th>\n",
       "      <td>1</td>\n",
       "      <td>H</td>\n",
       "      <td>1.01</td>\n",
       "      <td>20.46</td>\n",
       "      <td>13.96</td>\n",
       "      <td>71.00</td>\n",
       "      <td>0.45</td>\n",
       "      <td>0.06</td>\n",
       "      <td>NaN</td>\n",
       "    </tr>\n",
       "    <tr>\n",
       "      <th>Helium</th>\n",
       "      <td>2</td>\n",
       "      <td>He</td>\n",
       "      <td>4.00</td>\n",
       "      <td>4.26</td>\n",
       "      <td>3.46</td>\n",
       "      <td>126.00</td>\n",
       "      <td>0.08</td>\n",
       "      <td>0.02</td>\n",
       "      <td>NaN</td>\n",
       "    </tr>\n",
       "    <tr>\n",
       "      <th>Lithium</th>\n",
       "      <td>3</td>\n",
       "      <td>Li</td>\n",
       "      <td>6.94</td>\n",
       "      <td>1603.16</td>\n",
       "      <td>453.66</td>\n",
       "      <td>530.00</td>\n",
       "      <td>136.01</td>\n",
       "      <td>3.02</td>\n",
       "      <td>NaN</td>\n",
       "    </tr>\n",
       "    <tr>\n",
       "      <th>Beryllium</th>\n",
       "      <td>4</td>\n",
       "      <td>Be</td>\n",
       "      <td>9.01</td>\n",
       "      <td>3043.16</td>\n",
       "      <td>1550.16</td>\n",
       "      <td>1850.00</td>\n",
       "      <td>309.46</td>\n",
       "      <td>11.73</td>\n",
       "      <td>NaN</td>\n",
       "    </tr>\n",
       "    <tr>\n",
       "      <th>Boron</th>\n",
       "      <td>5</td>\n",
       "      <td>B</td>\n",
       "      <td>10.81</td>\n",
       "      <td>2303.16</td>\n",
       "      <td>2340.00</td>\n",
       "      <td>536.01</td>\n",
       "      <td>22.19</td>\n",
       "      <td>NaN</td>\n",
       "      <td>NaN</td>\n",
       "    </tr>\n",
       "    <tr>\n",
       "      <th>Carbon</th>\n",
       "      <td>6</td>\n",
       "      <td>C</td>\n",
       "      <td>12.01</td>\n",
       "      <td>5103.16</td>\n",
       "      <td>4000.16</td>\n",
       "      <td>2260.00</td>\n",
       "      <td>719.01</td>\n",
       "      <td>NaN</td>\n",
       "      <td>NaN</td>\n",
       "    </tr>\n",
       "    <tr>\n",
       "      <th>Nitrogen</th>\n",
       "      <td>7</td>\n",
       "      <td>N</td>\n",
       "      <td>14.01</td>\n",
       "      <td>77.36</td>\n",
       "      <td>63.16</td>\n",
       "      <td>810.00</td>\n",
       "      <td>2.79</td>\n",
       "      <td>0.36</td>\n",
       "      <td>NaN</td>\n",
       "    </tr>\n",
       "    <tr>\n",
       "      <th>Oxygen</th>\n",
       "      <td>8</td>\n",
       "      <td>O</td>\n",
       "      <td>16.00</td>\n",
       "      <td>90.16</td>\n",
       "      <td>54.36</td>\n",
       "      <td>1140.00</td>\n",
       "      <td>3.41</td>\n",
       "      <td>0.22</td>\n",
       "      <td>NaN</td>\n",
       "    </tr>\n",
       "    <tr>\n",
       "      <th>Fluorine</th>\n",
       "      <td>9</td>\n",
       "      <td>F</td>\n",
       "      <td>19.00</td>\n",
       "      <td>84.96</td>\n",
       "      <td>53.56</td>\n",
       "      <td>1505.00</td>\n",
       "      <td>3.16</td>\n",
       "      <td>0.26</td>\n",
       "      <td>NaN</td>\n",
       "    </tr>\n",
       "    <tr>\n",
       "      <th>Neon</th>\n",
       "      <td>10</td>\n",
       "      <td>Ne</td>\n",
       "      <td>20.18</td>\n",
       "      <td>27.16</td>\n",
       "      <td>24.56</td>\n",
       "      <td>1200.00</td>\n",
       "      <td>1.77</td>\n",
       "      <td>0.34</td>\n",
       "      <td>NaN</td>\n",
       "    </tr>\n",
       "  </tbody>\n",
       "</table>\n",
       "</div>"
      ],
      "text/plain": [
       "           Element Number  Symbol   Weight     Boil     Melt  Density Vapour  \\\n",
       "Hydrogen         1      H    1.01    20.46    13.96    71.00            0.45   \n",
       "Helium           2     He    4.00     4.26     3.46   126.00            0.08   \n",
       "Lithium          3     Li    6.94  1603.16   453.66   530.00          136.01   \n",
       "Beryllium        4     Be    9.01  3043.16  1550.16  1850.00          309.46   \n",
       "Boron            5      B   10.81  2303.16  2340.00   536.01           22.19   \n",
       "Carbon           6      C   12.01  5103.16  4000.16  2260.00          719.01   \n",
       "Nitrogen         7      N   14.01    77.36    63.16   810.00            2.79   \n",
       "Oxygen           8      O   16.00    90.16    54.36  1140.00            3.41   \n",
       "Fluorine         9      F   19.00    84.96    53.56  1505.00            3.16   \n",
       "Neon            10     Ne   20.18    27.16    24.56  1200.00            1.77   \n",
       "\n",
       "           Fusion  Unnamed: 8  \n",
       "Hydrogen     0.06         NaN  \n",
       "Helium       0.02         NaN  \n",
       "Lithium      3.02         NaN  \n",
       "Beryllium   11.73         NaN  \n",
       "Boron         NaN         NaN  \n",
       "Carbon        NaN         NaN  \n",
       "Nitrogen     0.36         NaN  \n",
       "Oxygen       0.22         NaN  \n",
       "Fluorine     0.26         NaN  \n",
       "Neon         0.34         NaN  "
      ]
     },
     "execution_count": 67,
     "metadata": {},
     "output_type": "execute_result"
    }
   ],
   "source": [
    "# Uses pandas read_csv() function to create a new pandas dataframe called housing_data from csv data\n",
    "periodic_elements = pd.read_csv(\"https://introcs.cs.princeton.edu/java/data/elements.csv\")\n",
    "\n",
    "# Gets the first 5 entries in housing_data\n",
    "periodic_elements.head(10)"
   ]
  },
  {
   "cell_type": "code",
   "execution_count": 68,
   "metadata": {},
   "outputs": [
    {
     "data": {
      "text/plain": [
       "<matplotlib.axes._subplots.AxesSubplot at 0x7ff27cf7bdf0>"
      ]
     },
     "execution_count": 68,
     "metadata": {},
     "output_type": "execute_result"
    },
    {
     "data": {
      "image/png": "[encoded data removed]",
      "text/plain": [
       "<Figure size 432x288 with 1 Axes>"
      ]
     },
     "metadata": {
      "needs_background": "light"
     },
     "output_type": "display_data"
    },
    {
     "data": {
      "image/png": "[encoded data removed]",
      "text/plain": [
       "<Figure size 1080x1080 with 1 Axes>"
      ]
     },
     "metadata": {
      "needs_background": "light"
     },
     "output_type": "display_data"
    }
   ],
   "source": [
    "# Plots a histogram of the median_house_value from the housing_data\n",
    "periodic_elements['Weight'].plot(kind='hist', bins=10, color='mediumpurple')\n",
    "\n",
    "# Plots a scatterplot of the median_income vs median_house_value from the housing_data\n",
    "periodic_elements.plot.scatter(x='Symbol', y='Melt', figsize=(15,15), color='coral')"
   ]
  }
 ],
 "metadata": {
  "colab": {
   "collapsed_sections": [],
   "name": "python_training2.ipynb",
   "provenance": []
  },
  "kernelspec": {
   "display_name": "Python 3",
   "language": "python",
   "name": "python3"
  },
  "language_info": {
   "codemirror_mode": {
    "name": "ipython",
    "version": 3
   },
   "file_extension": ".py",
   "mimetype": "text/x-python",
   "name": "python",
   "nbconvert_exporter": "python",
   "pygments_lexer": "ipython3",
   "version": "3.8.3"
  }
 },
 "nbformat": 4,
 "nbformat_minor": 1
}
